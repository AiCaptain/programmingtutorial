{
  "nbformat": 4,
  "nbformat_minor": 0,
  "metadata": {
    "colab": {
      "name": "Kapitel 1.ipynb",
      "provenance": [],
      "include_colab_link": true
    },
    "kernelspec": {
      "name": "python3",
      "display_name": "Python 3"
    }
  },
  "cells": [
    {
      "cell_type": "markdown",
      "metadata": {
        "id": "view-in-github",
        "colab_type": "text"
      },
      "source": [
        "<a href=\"https://colab.research.google.com/github/AiCaptain/programmingtutorial/blob/master/Kapitel_1.ipynb\" target=\"_parent\"><img src=\"https://colab.research.google.com/assets/colab-badge.svg\" alt=\"Open In Colab\"/></a>"
      ]
    },
    {
      "cell_type": "markdown",
      "metadata": {
        "id": "vVsjVJIy7EFF",
        "colab_type": "text"
      },
      "source": [
        "# Wir lernen programmieren!\n"
      ]
    },
    {
      "cell_type": "markdown",
      "metadata": {
        "id": "nO9Lyw3g7LjE",
        "colab_type": "text"
      },
      "source": [
        "## Wie machen wir das?"
      ]
    },
    {
      "cell_type": "markdown",
      "metadata": {
        "id": "CXxhl_jl7X6v",
        "colab_type": "text"
      },
      "source": [
        "In dem wir uns Stück für Stück dem Ziel nähern: Ein richtiges, ausgewachsenes Programm schreiben. Das Programm soll in Vokabeltrainer werden. Mit welchen Finessen er am Ende beeindrucken kann, werden wir dann sehen. Nach oben gibt es bekanntlich kaum Grenzen. Aber wichtiger ist, dass wir überhaupt anfangen!\n",
        "\n",
        "Als Programmiersprache wollen wir Python (sprich: Peifen, das \"f\" soll das berüchtigte, englische \"th\" sein) verwenden. Genauer gesagt Python 3. Es gibt auch immer noch viele Programme in Python Version 2, aber wenn wir was Neues anfangen, nehmen wir auch eine aktuelle Programmiersprache. Wer es noch genauer wissen will: Zum Zeitpunkt der Erstellung dieses Textes ist Python 3.8 die aktuelle Version."
      ]
    },
    {
      "cell_type": "markdown",
      "metadata": {
        "id": "a8X0PjEa7gag",
        "colab_type": "text"
      },
      "source": [
        "## Python - Lassen wir die Schlange mal tanzen ...\n"
      ]
    },
    {
      "cell_type": "markdown",
      "metadata": {
        "id": "M4GB5x4k7kOj",
        "colab_type": "text"
      },
      "source": [
        "Genug der Vorrede! Jetzt musst Du aktiv werden! Hast Du schon ein Python 3 installiert? Hmm ... Du weißt es nicht? Dann probiere doch mal aus, ob Du es starten kannst! Wenn eine Fehlermeldung kommt, ist die Wahrscheinlichkeit hoch, dass Du noch kein Python installiert hast oder es nicht richtig installiert ist."
      ]
    },
    {
      "cell_type": "markdown",
      "metadata": {
        "id": "oiPdh9q-7uLB",
        "colab_type": "text"
      },
      "source": [
        "#### Notiz am Rande:\n",
        "> Ich gehe davon aus, dass Du ein Windows-Computer hast. Wenn nicht, musst Du an einigen Stellen versuchen, die bedeutungsgleiche Funktion auf Deinem Computer unter MacOS oder Linux (oder was auch immer bei Dir installiert ist) herauszufinden."
      ]
    },
    {
      "cell_type": "markdown",
      "metadata": {
        "id": "6pag8KCA8ZBT",
        "colab_type": "text"
      },
      "source": [
        "### Tanzbefehl"
      ]
    },
    {
      "cell_type": "markdown",
      "metadata": {
        "id": "g-pCW5NU72VF",
        "colab_type": "text"
      },
      "source": [
        "Klicke mal unten links auf diese Schaltfläche mit den vier Quadraten! Das ist die Windows-Schaltfläche. Wenn Du keine uralte Tastatur hast, findest Du auf dieser auch eine Taste, die das gleiche Symbol hat. Meistens ist es die zweite Taste links neben der Leertaste.\n",
        "\n",
        "Und? Hast Du die Taste gedrückt oder die Schaltfläche angeklickt?\n",
        "\n",
        "Dann ist jetzt das große Windows-Menü aufgegangen und unten, rechts neben der Schaltfläche blinkt der Textcursor in dem Suchfeld bereit zur Eingabe. Tippe einfach mal die Tasten `C`,`M`, `D` und danach die `Return`-Taste (wird auch `Enter`-Taste genannt).\n",
        "\n",
        "Es sollte jetzt ein schwarzes Fenster, in dem wieder ein Textcursor blinkend auf Deine Eingabe wartet. Wenn Du in diesem Fenster einfach mal `python` eintippst und wieder `Return` drückst, wirst Du gleich sehen, ob Python bei Dir installiert ist. Ist die Rückmeldung vom Computer \"*Der Befehl \"python\" ist entweder falsch geschrieben oder konnte nicht gefunden werden.*\", dann weißt Du, dass noch kein Python installiert ist. Dann machen wir einen kleinen Ausflug zur Python-Installation. Keine Angst! Wir sind gleich zurück!\n"
      ]
    }
  ]
}